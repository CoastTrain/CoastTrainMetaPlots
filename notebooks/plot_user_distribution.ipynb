{
 "cells": [
  {
   "cell_type": "markdown",
   "id": "2e514f66",
   "metadata": {},
   "source": [
    "## Coast Train metadata plots: labeler distribution\n",
    "\n",
    "Daniel Buscombe, Marda Science contracted to U.S Geological Survey Pacific Coastal and Marine Science Center\n",
    "\n",
    "January, 2022\n",
    "\n",
    "\n",
    "These plots describe the Coast Train \"v1\" dataset\n"
   ]
  },
  {
   "cell_type": "markdown",
   "id": "a6652654",
   "metadata": {},
   "source": [
    "Import libraries"
   ]
  },
  {
   "cell_type": "code",
   "execution_count": 14,
   "id": "40a97996",
   "metadata": {},
   "outputs": [],
   "source": [
    "import pandas as pd\n",
    "import matplotlib.pyplot as plt\n",
    "import numpy as np"
   ]
  },
  {
   "cell_type": "markdown",
   "id": "d3341c31",
   "metadata": {},
   "source": [
    "Read data"
   ]
  },
  {
   "cell_type": "code",
   "execution_count": 15,
   "id": "33bdd9d2",
   "metadata": {},
   "outputs": [],
   "source": [
    "A = pd.read_csv('../metadata/A_naip_meta_served.csv')\n",
    "B = pd.read_csv('../metadata/B_quads_gulf_meta_served.csv')\n",
    "C = pd.read_csv('../metadata/C_s2_meta_served.csv')\n",
    "D = pd.read_csv('../metadata/D_s2_4classes_meta_served.csv')\n",
    "E = pd.read_csv('../metadata/E_L8_meta_all_served.csv')\n",
    "F = pd.read_csv('../metadata/F_elwha_l8_served.csv')\n",
    "G = pd.read_csv('../metadata/G_madeira_meta_served.csv')\n",
    "H = pd.read_csv('../metadata/H_dauphin_meta_served.csv')\n",
    "I = pd.read_csv('../metadata/I_sandwich_metadata_served.csv')\n",
    "J = pd.read_csv('../metadata/J_naip_6class_meta_served.csv')"
   ]
  },
  {
   "cell_type": "markdown",
   "id": "c259ae8c",
   "metadata": {},
   "source": [
    "Define a list of dataset names"
   ]
  },
  {
   "cell_type": "code",
   "execution_count": 16,
   "id": "351f4662",
   "metadata": {},
   "outputs": [],
   "source": [
    "names = [\n",
    "    'A: NAIP',\n",
    "    'B: Quads',\n",
    "    'C: S2',\n",
    "    'D: S2-4class',\n",
    "    'E: Landsat-8',\n",
    "    'F: Landsat-8-Elwha',\n",
    "    'G: Madeira',\n",
    "    'H: Dauphin',\n",
    "    'I: Sandwich',\n",
    "    'J: NAIP-6class'\n",
    "]"
   ]
  },
  {
   "cell_type": "markdown",
   "id": "8734cd8b",
   "metadata": {},
   "source": [
    "### Number of images labeled per labeler ID"
   ]
  },
  {
   "cell_type": "markdown",
   "id": "ccdfde9a",
   "metadata": {},
   "source": [
    "Frequency histograms of labels by labeler ID\n",
    "\n",
    "Create a text to integer mapping using a dict"
   ]
  },
  {
   "cell_type": "code",
   "execution_count": 27,
   "id": "2b4c6bba",
   "metadata": {},
   "outputs": [],
   "source": [
    "mapping={'ID1':1, 'ID2':2, 'ID3':3, 'ID4':4,'ID5':5, 'ID6':6}"
   ]
  },
  {
   "cell_type": "markdown",
   "id": "aa9abbdd",
   "metadata": {},
   "source": [
    "Cycle through each dataset, strip out ID from npz file name, and convert to an integer using the mapping"
   ]
  },
  {
   "cell_type": "code",
   "execution_count": 28,
   "id": "3e0b2564",
   "metadata": {},
   "outputs": [],
   "source": [
    "I_per_set = []\n",
    "for dat in [A,B,C,D,E,F,G,H,I,J]:\n",
    "   tmp = dat['annotation_image_filename'].values\n",
    "   ID_string = [t.split('_')[-1].split('.npz')[0] for t in tmp]\n",
    "   ID_num = [mapping[i] for i in ID_string]\n",
    "   I_per_set.append(ID_num)"
   ]
  },
  {
   "cell_type": "markdown",
   "id": "63fc0beb",
   "metadata": {},
   "source": [
    "Get a list of all unique IDs, and make bins"
   ]
  },
  {
   "cell_type": "code",
   "execution_count": 32,
   "id": "073727f1",
   "metadata": {},
   "outputs": [],
   "source": [
    "all_ids = np.unique(np.hstack(I_per_set))\n",
    "bins = np.arange(1,len(all_ids)+1)#+1"
   ]
  },
  {
   "cell_type": "code",
   "execution_count": 33,
   "id": "77e21b6c",
   "metadata": {},
   "outputs": [
    {
     "data": {
      "text/plain": [
       "array([1, 2, 3, 4, 5, 6])"
      ]
     },
     "execution_count": 33,
     "metadata": {},
     "output_type": "execute_result"
    }
   ],
   "source": [
    "bins"
   ]
  },
  {
   "cell_type": "markdown",
   "id": "5ea40c1f",
   "metadata": {},
   "source": [
    "For each dataset, count the number of IDs and plot as a bar (note: it might be tempting to use plt.hist  for this - don't. It is a horrible function and should be avoided at all costs. It basically doesnt work when you have only a single value)"
   ]
  },
  {
   "cell_type": "code",
   "execution_count": 37,
   "id": "c0e6ba96",
   "metadata": {},
   "outputs": [],
   "source": [
    "plt.rcParams[\"figure.autolayout\"] = True\n",
    "\n",
    "plt.figure(figsize=(16,12))\n",
    "for counter,(i,name) in enumerate(zip(I_per_set, names)):\n",
    "    plt.subplot(5,2,counter+1)\n",
    "    v = [np.sum(i==n) for n in bins]\n",
    "    plt.bar(bins,v,width=1, edgecolor='white', linewidth=1)\n",
    "\n",
    "#     if counter==8:\n",
    "    plt.ylabel('Number of Labeled Images')\n",
    "    plt.xlabel('Labeler ID')\n",
    "    plt.title(name.replace(':',')'), loc='left')\n",
    "\n",
    "plt.savefig('../plots/Label_per_datarecord_per_ID.png',dpi=200, bbox_inches='tight')\n",
    "plt.close('all')                "
   ]
  },
  {
   "cell_type": "markdown",
   "id": "8f1c5ffc",
   "metadata": {},
   "source": [
    "Sum all the datasets by ID,. and plot as bars"
   ]
  },
  {
   "cell_type": "code",
   "execution_count": 38,
   "id": "15003988",
   "metadata": {},
   "outputs": [],
   "source": [
    "all_ids_summed = [np.sum(np.hstack(I_per_set)==i) for i in all_ids]"
   ]
  },
  {
   "cell_type": "code",
   "execution_count": 40,
   "id": "da917112",
   "metadata": {},
   "outputs": [
    {
     "data": {
      "text/plain": [
       "[415, 497, 826, 40, 44, 30]"
      ]
     },
     "execution_count": 40,
     "metadata": {},
     "output_type": "execute_result"
    }
   ],
   "source": [
    "all_ids_summed"
   ]
  },
  {
   "cell_type": "code",
   "execution_count": 39,
   "id": "35bccc91",
   "metadata": {},
   "outputs": [],
   "source": [
    "plt.bar(all_ids,all_ids_summed)\n",
    "plt.xlabel('Labeler ID')\n",
    "plt.ylabel('Number of images labeled')\n",
    "plt.savefig('../plots/Label_all_datarecords_per_ID.png',dpi=200, bbox_inches='tight')\n",
    "plt.close('all')   "
   ]
  },
  {
   "cell_type": "code",
   "execution_count": 62,
   "id": "2b962789",
   "metadata": {},
   "outputs": [],
   "source": [
    "all_id = []\n",
    "for dat in [A,B,C,D,E,F,G,H,I,J]:\n",
    "    tmp = dat['annotation_image_filename'].values\n",
    "    ID_string = [t.split('_')[-1].split('.npz')[0] for t in tmp]\n",
    "    ID_num = [mapping[i] for i in ID_string]\n",
    "    per_id = []\n",
    "    for k in all_ids:\n",
    "        i=np.where(ID_num==k)[0]\n",
    "        per_id.append(np.sum((dat['ImageHeightPx'][i]*dat['ImageWidthPx'][i]))/1e6)\n",
    "    all_id.append(per_id)"
   ]
  },
  {
   "cell_type": "code",
   "execution_count": 64,
   "id": "b1273ddf",
   "metadata": {},
   "outputs": [
    {
     "data": {
      "text/plain": [
       "array([276.177779, 194.595425, 614.167127,  48.9168  ,  44.072028,\n",
       "        14.637375])"
      ]
     },
     "execution_count": 64,
     "metadata": {},
     "output_type": "execute_result"
    }
   ],
   "source": [
    "np.sum(all_id,axis=0)"
   ]
  },
  {
   "cell_type": "code",
   "execution_count": 65,
   "id": "79cd102d",
   "metadata": {},
   "outputs": [],
   "source": [
    "plt.close('all')\n",
    "plt.bar(all_ids,np.sum(all_id,axis=0))\n",
    "plt.xlabel('Labeler ID')\n",
    "plt.ylabel('Millions of pixels labeled')\n",
    "plt.savefig('../plots/Label_all_million_pixels_datarecords_per_ID.png',dpi=200, bbox_inches='tight')\n",
    "plt.close('all')   "
   ]
  },
  {
   "cell_type": "markdown",
   "id": "0742f6c0",
   "metadata": {},
   "source": [
    "### number and proportion of pixels labeled"
   ]
  },
  {
   "cell_type": "markdown",
   "id": "442c0ef8",
   "metadata": {},
   "source": [
    "Create two lists, one for the number of million-pixels labeled, and the other for the percentage of those labeled pixels labeled by a human"
   ]
  },
  {
   "cell_type": "code",
   "execution_count": 24,
   "id": "26c1c192",
   "metadata": {},
   "outputs": [],
   "source": [
    "million_px_labeled = []\n",
    "million_px = []\n",
    "for dat in [A,B,C,D,E,F,G,H,I,J]:\n",
    "    million_px.append(np.sum((dat['ImageHeightPx']*dat['ImageWidthPx']))/1e6)\n",
    "    \n",
    "    million_px_labeled.append(np.sum((dat['ImageHeightPx']*dat['ImageWidthPx'])*dat['doodle_spatial_density'])/1e6)\n",
    "    \n",
    "prop_px_labeled = 100*(np.array(million_px_labeled)/ np.array(million_px))"
   ]
  },
  {
   "cell_type": "code",
   "execution_count": 25,
   "id": "cced779f",
   "metadata": {},
   "outputs": [
    {
     "data": {
      "text/plain": [
       "array([16.75845868,  6.56264785, 42.10965241, 22.31145739, 19.86481611,\n",
       "       68.112163  , 16.03318361,  9.13826924,  6.17331695,  6.91093559])"
      ]
     },
     "execution_count": 25,
     "metadata": {},
     "output_type": "execute_result"
    }
   ],
   "source": [
    "prop_px_labeled"
   ]
  },
  {
   "cell_type": "code",
   "execution_count": 26,
   "id": "20247cd0",
   "metadata": {},
   "outputs": [
    {
     "name": "stderr",
     "output_type": "stream",
     "text": [
      "<ipython-input-26-281c29184ef2>:17: UserWarning: Attempted to set non-positive left xlim on a log-scaled axis.\n",
      "Invalid limit will be ignored.\n",
      "  plt.xlim(0,1000)\n"
     ]
    }
   ],
   "source": [
    "fig = plt.figure(figsize=(10,10))\n",
    "plt.subplot(221)\n",
    "plt.semilogx(million_px,prop_px_labeled, 'ko')\n",
    "plt.ylabel('Percentage of pixels annotated by a human')\n",
    "plt.xlabel('Millions of pixels labeled')\n",
    "\n",
    "for counter,(a,b,c) in enumerate(zip(million_px, prop_px_labeled, names)):\n",
    "\n",
    "    if (counter!=9) and (counter!=5):\n",
    "        plt.text(a-1, b+1, c)\n",
    "    elif counter==5: \n",
    "        plt.text(a+.25, b, c)\n",
    "        \n",
    "    else:\n",
    "        plt.text(a-.25, b-2.2, c)\n",
    "\n",
    "plt.xlim(0,1000)\n",
    "\n",
    "plt.savefig('../plots/Million_pixels_vs_percentage_doodled.png',dpi=200, bbox_inches='tight')\n",
    "plt.close('all')   "
   ]
  },
  {
   "cell_type": "code",
   "execution_count": null,
   "id": "6add59a6",
   "metadata": {},
   "outputs": [],
   "source": []
  }
 ],
 "metadata": {
  "kernelspec": {
   "display_name": "Python 3",
   "language": "python",
   "name": "python3"
  },
  "language_info": {
   "codemirror_mode": {
    "name": "ipython",
    "version": 3
   },
   "file_extension": ".py",
   "mimetype": "text/x-python",
   "name": "python",
   "nbconvert_exporter": "python",
   "pygments_lexer": "ipython3",
   "version": "3.9.7"
  }
 },
 "nbformat": 4,
 "nbformat_minor": 5
}
