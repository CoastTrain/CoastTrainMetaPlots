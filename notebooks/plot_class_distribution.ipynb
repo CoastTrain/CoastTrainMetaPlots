{
 "cells": [
  {
   "cell_type": "markdown",
   "id": "42121a3e",
   "metadata": {},
   "source": [
    "## Coast Train metadata plots: class distribution\n",
    "\n",
    "Daniel Buscombe, Marda Science contracted to U.S Geological Survey Pacific Coastal and Marine Science Center\n",
    "\n",
    "January, 2022\n",
    "\n",
    "\n",
    "These plots describe the Coast Train \"v1\" dataset\n"
   ]
  },
  {
   "cell_type": "markdown",
   "id": "5112d1d5",
   "metadata": {},
   "source": [
    "Import libraries"
   ]
  },
  {
   "cell_type": "code",
   "execution_count": 5,
   "id": "109d6d18",
   "metadata": {},
   "outputs": [],
   "source": [
    "import pandas as pd\n",
    "import matplotlib.pyplot as plt\n",
    "import numpy as np"
   ]
  },
  {
   "cell_type": "markdown",
   "id": "4874531d",
   "metadata": {},
   "source": [
    "Read data"
   ]
  },
  {
   "cell_type": "code",
   "execution_count": 6,
   "id": "e3e6c05c",
   "metadata": {},
   "outputs": [],
   "source": [
    "A = pd.read_csv('../metadata/A_naip_meta_served.csv')\n",
    "B = pd.read_csv('../metadata/B_quads_gulf_meta_served.csv')\n",
    "C = pd.read_csv('../metadata/C_s2_meta_served.csv')\n",
    "D = pd.read_csv('../metadata/D_s2_4classes_meta_served.csv')\n",
    "E = pd.read_csv('../metadata/E_L8_meta_all_served.csv')\n",
    "F = pd.read_csv('../metadata/F_elwha_l8_served.csv')\n",
    "G = pd.read_csv('../metadata/G_madeira_meta_served.csv')\n",
    "H = pd.read_csv('../metadata/H_dauphin_meta_served.csv')\n",
    "I = pd.read_csv('../metadata/I_sandwich_metadata_served.csv')\n",
    "J = pd.read_csv('../metadata/J_naip_6class_meta_served.csv')"
   ]
  },
  {
   "cell_type": "markdown",
   "id": "dd3b7240",
   "metadata": {},
   "source": [
    "Define a list of dataset names"
   ]
  },
  {
   "cell_type": "code",
   "execution_count": 7,
   "id": "ab5e7d8c",
   "metadata": {},
   "outputs": [],
   "source": [
    "names = [\n",
    "    'A: NAIP',\n",
    "    'B: Quads',\n",
    "    'C: S2',\n",
    "    'D: S2-4class',\n",
    "    'E: Landsat-8',\n",
    "    'F: Landsat-8-Elwha',\n",
    "    'G: Madeira',\n",
    "    'H: Dauphin',\n",
    "    'I: Sandwich-8',\n",
    "    'I: Sandwich-11',\n",
    "    'J: NAIP-6class'\n",
    "]"
   ]
  },
  {
   "cell_type": "markdown",
   "id": "76e13c79",
   "metadata": {},
   "source": [
    "Cycle through each dataset and plot the number of images that contain each class"
   ]
  },
  {
   "cell_type": "code",
   "execution_count": 34,
   "id": "cc466442",
   "metadata": {},
   "outputs": [],
   "source": [
    "plt.rcParams[\"figure.autolayout\"] = True\n",
    "\n",
    "C_per_set = []\n",
    "\n",
    "plt.figure(figsize=(16,18))\n",
    "# plt.subplots_adjust(hspace=0.5)\n",
    "for counter,(dat,name) in enumerate(zip([A,B,C,D,E,F,G,H,I[:99],I[99:],J], names)):\n",
    " \n",
    "    classes = dat['classes_array'].values\n",
    "    classes = [c.strip() for c in classes[0].split(',')]\n",
    "    all = dat['classes_present_integer'].values\n",
    "    \n",
    "    classes_present = []\n",
    "    for tmp in all:\n",
    "        tmp = tmp.split(',')\n",
    "        classes_present.append(np.array(tmp, 'int'))\n",
    "        \n",
    "    i = np.hstack(classes_present)\n",
    "    n_bins = dat['num_classes'].values[0]\n",
    "    bins = np.arange(n_bins+1)\n",
    "\n",
    "    C_per_set.append([classes[item] for item in i])\n",
    "    \n",
    "    plt.subplot(6,2,counter+1)\n",
    "\n",
    "    v = [np.sum(i==n) for n in bins]\n",
    "    plt.bar(bins,v,width=1, edgecolor='white', linewidth=1)\n",
    "\n",
    "    #n, bins, patches = plt.hist(i, bins=n_bins,  edgecolor='white', linewidth=1)\n",
    "    #ticks = [(patch._x0 + patch._x1)/2 for patch in patches]\n",
    "        \n",
    "    #ticklabels = [i for i in range(1,n_bins+1)]\n",
    "    plt.xticks(bins[:-1], classes, rotation=45)\n",
    "    plt.ylabel('Number of Labeled Images')\n",
    "    plt.xlabel('Class Label')\n",
    "    plt.title(name.replace(':',')'), loc='left')\n",
    "    \n",
    "plt.savefig('../plots/Num_images_per_datarecord_containing_class.png',dpi=200, bbox_inches='tight')   \n",
    "# plt.show()\n",
    "plt.close('all')   "
   ]
  },
  {
   "cell_type": "markdown",
   "id": "5993ffa0",
   "metadata": {},
   "source": [
    "## Merge classes and enumerate merged classes"
   ]
  },
  {
   "cell_type": "markdown",
   "id": "8026a8e3",
   "metadata": {},
   "source": [
    "All the unique class labels in the dataset"
   ]
  },
  {
   "cell_type": "code",
   "execution_count": 35,
   "id": "05a7ab56",
   "metadata": {},
   "outputs": [
    {
     "name": "stdout",
     "output_type": "stream",
     "text": [
      "38\n",
      "[\"'agricultural'\", \"'bare_ground'\", \"'bedrock'\", \"'buildings'\", \"'cloud'\", \"'coastal_defense'\", \"'cobble_boulder'\", \"'dev'\", \"'developed'\", \"'development'\", \"'gravel'\", \"'gravel_shell'\", \"'herbaceous vegetation'\", \"'ice_snow'\", \"'marsh_vegetation'\", \"'mud_silt'\", \"'nodata'\", \"'non-vegetated-dry'\", \"'non-vegetated-wet'\", \"'other'\", \"'other_anthro'\", \"'other_natural_terrain'\", \"'pavement_road'\", \"'people'\", \"'sand'\", \"'sediment'\", \"'sediment_plume'\", \"'surf'\", \"'terrestrial_vegetation'\", \"'unknown'\", \"'unusual'\", \"'vegetated'\", \"'vegetated_surface'\", \"'vegtated_ground'\", \"'vehicles'\", \"'water'\", \"'whitewater'\", \"'woody vegetation'\"]\n"
     ]
    }
   ],
   "source": [
    "uniq_classes = np.unique(np.hstack(C_per_set))\n",
    "\n",
    "print(len(uniq_classes))\n",
    "\n",
    "print(sorted(uniq_classes))"
   ]
  },
  {
   "cell_type": "markdown",
   "id": "29e4466d",
   "metadata": {},
   "source": [
    "Define super classes and make a remapping to integer"
   ]
  },
  {
   "cell_type": "code",
   "execution_count": 62,
   "id": "32512321",
   "metadata": {},
   "outputs": [
    {
     "data": {
      "text/plain": [
       "{'water': 0,\n",
       " 'whitewater': 1,\n",
       " 'sediment': 2,\n",
       " 'developed': 3,\n",
       " 'vegetation': 4,\n",
       " 'natural_terrain': 5,\n",
       " 'other': 6}"
      ]
     },
     "execution_count": 62,
     "metadata": {},
     "output_type": "execute_result"
    }
   ],
   "source": [
    "# common_classes = ['water', 'whitewater']\n",
    "\n",
    "super_classes = ['water', 'whitewater', 'sediment','developed', 'vegetation','natural_terrain', 'other']\n",
    "\n",
    "super_integers = np.arange(len(super_classes))\n",
    "\n",
    "remap_super = dict(zip(super_classes, super_integers))\n",
    "\n",
    "remap_super"
   ]
  },
  {
   "cell_type": "markdown",
   "id": "29318523",
   "metadata": {},
   "source": [
    "Define all aliases, one per unique class --> superclass"
   ]
  },
  {
   "cell_type": "code",
   "execution_count": 63,
   "id": "266a495e",
   "metadata": {},
   "outputs": [],
   "source": [
    "aliases = {\n",
    "      \"water\": \"water\",\n",
    "      \"sediment_plume\": \"water\",\n",
    "      \"whitewater\": \"whitewater\",\n",
    "      \"surf\":\"whitewater\",\n",
    "      \"sediment\": \"sediment\",\n",
    "      \"sand\":\"sediment\", \n",
    "      \"gravel\":\"sediment\",\n",
    "      \"gravel_shell\": \"sediment\",\n",
    "      \"cobble_boulder\": \"sediment\",\n",
    "      \"mud_silt\": \"sediment\",\n",
    "      \"developed\": \"developed\",\n",
    "      \"dev\":\"developed\",\n",
    "      \"coastal_defense\":\"developed\",\n",
    "      \"pavement_road\": \"developed\",\n",
    "      \"other_anthro\": \"developed\",\n",
    "      \"vehicles\": \"developed\",\n",
    "      \"development\":\"developed\",\n",
    "      \"buildings\":\"developed\",  \n",
    "      \"other_natural_terrain\": \"natural_terrain\",\n",
    "      \"other_bare_natural_terrain\":\"natural_terrain\",\n",
    "      \"bare_ground\":\"natural_terrain\",\n",
    "      \"bedrock\":\"natural_terrain\",\n",
    "      \"non-vegetated-wet\":\"natural_terrain\",\n",
    "      \"non-vegetated-dry\":\"natural_terrain\",\n",
    "      \"non_vegetated_dry\":\"natural_terrain\",\n",
    "      \"non_vegetated_wet\":\"natural_terrain\",\n",
    "      \"agricultural\":\"natural_terrain\",\n",
    "      \"bare_ground\":\"natural_terrain\", \n",
    "      \"vegetated\":\"vegetation\",    \n",
    "      \"vegetated_surface\":\"vegetation\",\n",
    "      \"vegtated_ground\":\"vegetation\",\n",
    "      \"terrestrial_vegetation\":\"vegetation\",\n",
    "      \"marsh_vegetation\":\"vegetation\",\n",
    "      \"herbaceous vegetation\":\"vegetation\",\n",
    "      \"herbaceous_veg\":\"vegetation\",\n",
    "      \"woody vegetation\":\"vegetation\",\n",
    "      \"woody_veg\":\"vegetation\",\n",
    "      \"unknown\":\"other\",\n",
    "      \"unusual\":\"other\",\n",
    "      \"nodata\":\"other\",\n",
    "      \"people\": \"other\",\n",
    "      \"ice_snow\": \"other\",\n",
    "      \"cloud\": \"other\",\n",
    "      \"other\":\"other\"\n",
    "}"
   ]
  },
  {
   "cell_type": "code",
   "execution_count": 64,
   "id": "7e1358cb",
   "metadata": {},
   "outputs": [
    {
     "data": {
      "text/plain": [
       "43"
      ]
     },
     "execution_count": 64,
     "metadata": {},
     "output_type": "execute_result"
    }
   ],
   "source": [
    "len(aliases)"
   ]
  },
  {
   "cell_type": "code",
   "execution_count": 65,
   "id": "9f3e2f97",
   "metadata": {},
   "outputs": [],
   "source": [
    "# sorted(aliases.keys())"
   ]
  },
  {
   "cell_type": "markdown",
   "id": "8f99fcfe",
   "metadata": {},
   "source": [
    "Plot number of images per recoded superclass per dataset"
   ]
  },
  {
   "cell_type": "code",
   "execution_count": 66,
   "id": "05716cb6",
   "metadata": {},
   "outputs": [],
   "source": [
    "plt.rcParams[\"figure.autolayout\"] = True\n",
    "\n",
    "S_per_set = []\n",
    "\n",
    "plt.figure(figsize=(16,18))\n",
    "\n",
    "for counter,(dat,name) in enumerate(zip([A,B,C,D,E,F,G,H,I[:99],I[99:],J], names)):\n",
    "\n",
    "    classes = dat['classes_array'].values\n",
    "    classes = [c.strip() for c in classes[0].split(',')]\n",
    "    all = dat['classes_present_integer'].values\n",
    "\n",
    "    classes_present = []\n",
    "    for tmp in all:\n",
    "        tmp = tmp.split(',')\n",
    "        classes_present.append(np.array(tmp, 'int'))\n",
    "\n",
    "    i = np.hstack(classes_present)\n",
    "\n",
    "    classes_present_string = [classes[item].strip(\"'\") for item in i]\n",
    "\n",
    "    recoded = [aliases[i] for i in classes_present_string]\n",
    "\n",
    "    recoded_integer = [remap_super[i] for i in recoded]\n",
    "\n",
    "    i = np.hstack(recoded_integer)\n",
    "    \n",
    "    S_per_set.append(i)\n",
    "    n_bins = len(remap_super)\n",
    "    bins = np.arange(n_bins)#+1)\n",
    "\n",
    "    plt.subplot(6,2,counter+1)\n",
    "#     n, bins, patches = plt.hist(i, bins=n_bins,  edgecolor='white', linewidth=1)\n",
    "#     ticks = [(patch._x0 + patch._x1)/2 for patch in patches]\n",
    "#     plt.xticks(ticks, super_classes, rotation=90)\n",
    "\n",
    "    v = [np.sum(i==n) for n in bins]\n",
    "    plt.bar(bins,v,width=1, edgecolor='white', linewidth=1)\n",
    "    plt.xticks(bins, super_classes, rotation=90)#[:-1]\n",
    "\n",
    "    plt.ylabel('Number of Labeled Images')\n",
    "    plt.xlabel('Super-class Label')\n",
    "    plt.title(name.replace(':',')'), loc='left')\n",
    "\n",
    "plt.savefig('../plots/Num_images_per_datarecord_containing_superclass.png',dpi=200, bbox_inches='tight')\n",
    "plt.close('all')"
   ]
  },
  {
   "cell_type": "code",
   "execution_count": 67,
   "id": "2f1d29e0",
   "metadata": {},
   "outputs": [],
   "source": [
    "all_superclasses_summed = [np.sum(np.hstack(S_per_set)==i) for i in super_integers]"
   ]
  },
  {
   "cell_type": "code",
   "execution_count": 68,
   "id": "f25acc4c",
   "metadata": {},
   "outputs": [],
   "source": [
    "plt.bar(super_integers,all_superclasses_summed)\n",
    "plt.xticks(super_integers, super_classes, rotation=90)\n",
    "plt.xlabel('Super-class')\n",
    "plt.ylabel('Number of images labeled')\n",
    "plt.savefig('../plots/NumLabel_all_datarecords_per_superlabel.png',dpi=200, bbox_inches='tight')\n",
    "plt.close('all')"
   ]
  },
  {
   "cell_type": "code",
   "execution_count": null,
   "id": "5ebaee2e",
   "metadata": {},
   "outputs": [],
   "source": []
  }
 ],
 "metadata": {
  "kernelspec": {
   "display_name": "Python 3",
   "language": "python",
   "name": "python3"
  },
  "language_info": {
   "codemirror_mode": {
    "name": "ipython",
    "version": 3
   },
   "file_extension": ".py",
   "mimetype": "text/x-python",
   "name": "python",
   "nbconvert_exporter": "python",
   "pygments_lexer": "ipython3",
   "version": "3.9.7"
  }
 },
 "nbformat": 4,
 "nbformat_minor": 5
}
